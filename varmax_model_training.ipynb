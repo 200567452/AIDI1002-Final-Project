{
 "cells": [
  {
   "cell_type": "code",
   "execution_count": 2,
   "metadata": {
    "collapsed": true
   },
   "outputs": [],
   "source": [
    "import numpy as np\n",
    "import pandas as pd"
   ]
  },
  {
   "cell_type": "code",
   "execution_count": 5,
   "outputs": [
    {
     "data": {
      "text/plain": "(52560, 137)"
     },
     "execution_count": 5,
     "metadata": {},
     "output_type": "execute_result"
    }
   ],
   "source": [
    "solar = pd.read_csv(\"datasets/solar.txt\", sep = ',', header = None)\n",
    "solar.shape"
   ],
   "metadata": {
    "collapsed": false
   }
  },
  {
   "cell_type": "code",
   "execution_count": 7,
   "outputs": [
    {
     "data": {
      "text/plain": "(26304, 321)"
     },
     "execution_count": 7,
     "metadata": {},
     "output_type": "execute_result"
    }
   ],
   "source": [
    "electricity = pd.read_csv(\"datasets/electricity.txt\", sep = ',', header = None)\n",
    "electricity.shape"
   ],
   "metadata": {
    "collapsed": false
   }
  },
  {
   "cell_type": "code",
   "execution_count": 8,
   "outputs": [
    {
     "data": {
      "text/plain": "(17544, 862)"
     },
     "execution_count": 8,
     "metadata": {},
     "output_type": "execute_result"
    }
   ],
   "source": [
    "traffic = pd.read_csv(\"datasets/traffic.txt\", sep = ',', header = None)\n",
    "traffic.shape"
   ],
   "metadata": {
    "collapsed": false
   }
  },
  {
   "cell_type": "code",
   "execution_count": 38,
   "outputs": [
    {
     "data": {
      "text/plain": "(7588, 8)"
     },
     "execution_count": 38,
     "metadata": {},
     "output_type": "execute_result"
    }
   ],
   "source": [
    "exchange_rate = pd.read_csv(\"datasets/exchange_rate.txt\", sep = ',', header = None)\n",
    "exchange_rate.shape"
   ],
   "metadata": {
    "collapsed": false
   }
  },
  {
   "cell_type": "code",
   "execution_count": 115,
   "outputs": [
    {
     "data": {
      "text/plain": "                 0            1            2            3            4  \\\ncount  7588.000000  7588.000000  7588.000000  7588.000000  7588.000000   \nmean      0.776974     1.634105     0.821811     0.848146     0.142833   \nstd       0.136620     0.161544     0.117123     0.168874     0.023996   \nmin       0.483297     1.211534     0.618582     0.548617     0.109292   \n25%       0.701422     1.532887     0.727901     0.696864     0.120814   \n50%       0.761377     1.606574     0.811582     0.813959     0.145212   \n75%       0.873477     1.707646     0.920394     1.014018     0.159948   \nmax       1.102536     2.109000     1.091524     1.374079     0.237954   \n\n                 5            6            7  \ncount  7588.000000  7588.000000  7588.000000  \nmean      0.009343     0.654418     0.669673  \nstd       0.001458     0.115292     0.082836  \nmin       0.006254     0.393153     0.523834  \n25%       0.008331     0.566000     0.593287  \n50%       0.009151     0.669187     0.662767  \n75%       0.009995     0.734901     0.731835  \nmax       0.013202     0.882379     0.832556  ",
      "text/html": "<div>\n<style scoped>\n    .dataframe tbody tr th:only-of-type {\n        vertical-align: middle;\n    }\n\n    .dataframe tbody tr th {\n        vertical-align: top;\n    }\n\n    .dataframe thead th {\n        text-align: right;\n    }\n</style>\n<table border=\"1\" class=\"dataframe\">\n  <thead>\n    <tr style=\"text-align: right;\">\n      <th></th>\n      <th>0</th>\n      <th>1</th>\n      <th>2</th>\n      <th>3</th>\n      <th>4</th>\n      <th>5</th>\n      <th>6</th>\n      <th>7</th>\n    </tr>\n  </thead>\n  <tbody>\n    <tr>\n      <th>count</th>\n      <td>7588.000000</td>\n      <td>7588.000000</td>\n      <td>7588.000000</td>\n      <td>7588.000000</td>\n      <td>7588.000000</td>\n      <td>7588.000000</td>\n      <td>7588.000000</td>\n      <td>7588.000000</td>\n    </tr>\n    <tr>\n      <th>mean</th>\n      <td>0.776974</td>\n      <td>1.634105</td>\n      <td>0.821811</td>\n      <td>0.848146</td>\n      <td>0.142833</td>\n      <td>0.009343</td>\n      <td>0.654418</td>\n      <td>0.669673</td>\n    </tr>\n    <tr>\n      <th>std</th>\n      <td>0.136620</td>\n      <td>0.161544</td>\n      <td>0.117123</td>\n      <td>0.168874</td>\n      <td>0.023996</td>\n      <td>0.001458</td>\n      <td>0.115292</td>\n      <td>0.082836</td>\n    </tr>\n    <tr>\n      <th>min</th>\n      <td>0.483297</td>\n      <td>1.211534</td>\n      <td>0.618582</td>\n      <td>0.548617</td>\n      <td>0.109292</td>\n      <td>0.006254</td>\n      <td>0.393153</td>\n      <td>0.523834</td>\n    </tr>\n    <tr>\n      <th>25%</th>\n      <td>0.701422</td>\n      <td>1.532887</td>\n      <td>0.727901</td>\n      <td>0.696864</td>\n      <td>0.120814</td>\n      <td>0.008331</td>\n      <td>0.566000</td>\n      <td>0.593287</td>\n    </tr>\n    <tr>\n      <th>50%</th>\n      <td>0.761377</td>\n      <td>1.606574</td>\n      <td>0.811582</td>\n      <td>0.813959</td>\n      <td>0.145212</td>\n      <td>0.009151</td>\n      <td>0.669187</td>\n      <td>0.662767</td>\n    </tr>\n    <tr>\n      <th>75%</th>\n      <td>0.873477</td>\n      <td>1.707646</td>\n      <td>0.920394</td>\n      <td>1.014018</td>\n      <td>0.159948</td>\n      <td>0.009995</td>\n      <td>0.734901</td>\n      <td>0.731835</td>\n    </tr>\n    <tr>\n      <th>max</th>\n      <td>1.102536</td>\n      <td>2.109000</td>\n      <td>1.091524</td>\n      <td>1.374079</td>\n      <td>0.237954</td>\n      <td>0.013202</td>\n      <td>0.882379</td>\n      <td>0.832556</td>\n    </tr>\n  </tbody>\n</table>\n</div>"
     },
     "execution_count": 115,
     "metadata": {},
     "output_type": "execute_result"
    }
   ],
   "source": [
    "exchange_rate.describe()"
   ],
   "metadata": {
    "collapsed": false
   }
  },
  {
   "cell_type": "code",
   "execution_count": 114,
   "outputs": [],
   "source": [
    "exchange_rate_np_array = exchange_rate.to_numpy()\n",
    "np.save('exchange_rate.npy', exchange_rate_np_array)"
   ],
   "metadata": {
    "collapsed": false
   }
  },
  {
   "cell_type": "code",
   "execution_count": 39,
   "outputs": [],
   "source": [
    "# https://analyticsindiamag.com/complete-guide-to-dickey-fuller-test-in-time-series-analysis/\n",
    "\n",
    "from statsmodels.tsa.stattools import adfuller\n",
    "\n",
    "def stationarity_check(series):\n",
    "    result = adfuller(series, autolag='AIC')\n",
    "\n",
    "    print(column)\n",
    "    print('ADF Statistic: %f' % result[0])\n",
    "    print('p-value: %f' % result[1])\n",
    "    print('Critical Values:')\n",
    "    for key, value in result[4].items():\n",
    "        print('\\t%s: %.3f' % (key, value))\n",
    "    if result[0] < result[4][\"5%\"]:\n",
    "        print (\"Reject Ho - Time Series is Stationary\")\n",
    "        return True\n",
    "    else:\n",
    "        print (\"Failed to Reject Ho - Time Series is Non-Stationary\")\n",
    "        return False"
   ],
   "metadata": {
    "collapsed": false
   }
  },
  {
   "cell_type": "code",
   "execution_count": 40,
   "outputs": [
    {
     "name": "stdout",
     "output_type": "stream",
     "text": [
      "0\n",
      "ADF Statistic: -1.664994\n",
      "p-value: 0.449233\n",
      "Critical Values:\n",
      "\t1%: -3.431\n",
      "\t5%: -2.862\n",
      "\t10%: -2.567\n",
      "Failed to Reject Ho - Time Series is Non-Stationary\n",
      "1\n",
      "ADF Statistic: -2.149718\n",
      "p-value: 0.224998\n",
      "Critical Values:\n",
      "\t1%: -3.431\n",
      "\t5%: -2.862\n",
      "\t10%: -2.567\n",
      "Failed to Reject Ho - Time Series is Non-Stationary\n",
      "2\n",
      "ADF Statistic: -1.352572\n",
      "p-value: 0.604791\n",
      "Critical Values:\n",
      "\t1%: -3.431\n",
      "\t5%: -2.862\n",
      "\t10%: -2.567\n",
      "Failed to Reject Ho - Time Series is Non-Stationary\n",
      "3\n",
      "ADF Statistic: -1.586708\n",
      "p-value: 0.490267\n",
      "Critical Values:\n",
      "\t1%: -3.431\n",
      "\t5%: -2.862\n",
      "\t10%: -2.567\n",
      "Failed to Reject Ho - Time Series is Non-Stationary\n",
      "4\n",
      "ADF Statistic: -2.869174\n",
      "p-value: 0.049052\n",
      "Critical Values:\n",
      "\t1%: -3.431\n",
      "\t5%: -2.862\n",
      "\t10%: -2.567\n",
      "Reject Ho - Time Series is Stationary\n",
      "5\n",
      "ADF Statistic: -2.120121\n",
      "p-value: 0.236501\n",
      "Critical Values:\n",
      "\t1%: -3.431\n",
      "\t5%: -2.862\n",
      "\t10%: -2.567\n",
      "Failed to Reject Ho - Time Series is Non-Stationary\n",
      "6\n",
      "ADF Statistic: -1.728197\n",
      "p-value: 0.416646\n",
      "Critical Values:\n",
      "\t1%: -3.431\n",
      "\t5%: -2.862\n",
      "\t10%: -2.567\n",
      "Failed to Reject Ho - Time Series is Non-Stationary\n",
      "7\n",
      "ADF Statistic: -1.747735\n",
      "p-value: 0.406701\n",
      "Critical Values:\n",
      "\t1%: -3.431\n",
      "\t5%: -2.862\n",
      "\t10%: -2.567\n",
      "Failed to Reject Ho - Time Series is Non-Stationary\n"
     ]
    }
   ],
   "source": [
    "df = exchange_rate\n",
    "\n",
    "for column in df:\n",
    "    series = df[column].values\n",
    "    is_stationary = stationarity_check(series)"
   ],
   "metadata": {
    "collapsed": false
   }
  },
  {
   "cell_type": "code",
   "execution_count": 42,
   "outputs": [],
   "source": [
    "# taking 1st order difference to make the time series stationary\n",
    "\n",
    "df_diff = pd.DataFrame()\n",
    "for column in df:\n",
    "    series = df[column]\n",
    "    series_diff = series.diff()\n",
    "    df_diff[column] = series_diff.dropna()"
   ],
   "metadata": {
    "collapsed": false
   }
  },
  {
   "cell_type": "code",
   "execution_count": 43,
   "outputs": [
    {
     "name": "stdout",
     "output_type": "stream",
     "text": [
      "0\n",
      "ADF Statistic: -99.393431\n",
      "p-value: 0.000000\n",
      "Critical Values:\n",
      "\t1%: -3.431\n",
      "\t5%: -2.862\n",
      "\t10%: -2.567\n",
      "Reject Ho - Time Series is Stationary\n",
      "1\n",
      "ADF Statistic: -22.636334\n",
      "p-value: 0.000000\n",
      "Critical Values:\n",
      "\t1%: -3.431\n",
      "\t5%: -2.862\n",
      "\t10%: -2.567\n",
      "Reject Ho - Time Series is Stationary\n",
      "2\n",
      "ADF Statistic: -35.296871\n",
      "p-value: 0.000000\n",
      "Critical Values:\n",
      "\t1%: -3.431\n",
      "\t5%: -2.862\n",
      "\t10%: -2.567\n",
      "Reject Ho - Time Series is Stationary\n",
      "3\n",
      "ADF Statistic: -24.489297\n",
      "p-value: 0.000000\n",
      "Critical Values:\n",
      "\t1%: -3.431\n",
      "\t5%: -2.862\n",
      "\t10%: -2.567\n",
      "Reject Ho - Time Series is Stationary\n",
      "4\n",
      "ADF Statistic: -47.260145\n",
      "p-value: 0.000000\n",
      "Critical Values:\n",
      "\t1%: -3.431\n",
      "\t5%: -2.862\n",
      "\t10%: -2.567\n",
      "Reject Ho - Time Series is Stationary\n",
      "5\n",
      "ADF Statistic: -52.537349\n",
      "p-value: 0.000000\n",
      "Critical Values:\n",
      "\t1%: -3.431\n",
      "\t5%: -2.862\n",
      "\t10%: -2.567\n",
      "Reject Ho - Time Series is Stationary\n",
      "6\n",
      "ADF Statistic: -52.335680\n",
      "p-value: 0.000000\n",
      "Critical Values:\n",
      "\t1%: -3.431\n",
      "\t5%: -2.862\n",
      "\t10%: -2.567\n",
      "Reject Ho - Time Series is Stationary\n",
      "7\n",
      "ADF Statistic: -20.503845\n",
      "p-value: 0.000000\n",
      "Critical Values:\n",
      "\t1%: -3.431\n",
      "\t5%: -2.862\n",
      "\t10%: -2.567\n",
      "Reject Ho - Time Series is Stationary\n"
     ]
    }
   ],
   "source": [
    "for column in df_diff:\n",
    "    series = df_diff[column].values\n",
    "    is_stationary = stationarity_check(series)"
   ],
   "metadata": {
    "collapsed": false
   }
  },
  {
   "cell_type": "code",
   "execution_count": 52,
   "outputs": [
    {
     "name": "stdout",
     "output_type": "stream",
     "text": [
      "0\n",
      "Performing stepwise search to minimize aic\n",
      " ARIMA(2,1,2)(0,0,0)[0] intercept   : AIC=-56098.154, Time=2.50 sec\n",
      " ARIMA(0,1,0)(0,0,0)[0] intercept   : AIC=-55972.211, Time=1.68 sec\n",
      " ARIMA(1,1,0)(0,0,0)[0] intercept   : AIC=-56102.338, Time=0.81 sec\n",
      " ARIMA(0,1,1)(0,0,0)[0] intercept   : AIC=-56100.772, Time=3.89 sec\n",
      " ARIMA(0,1,0)(0,0,0)[0]             : AIC=-55974.195, Time=0.33 sec\n",
      " ARIMA(2,1,0)(0,0,0)[0] intercept   : AIC=-56100.340, Time=1.48 sec\n",
      " ARIMA(1,1,1)(0,0,0)[0] intercept   : AIC=-56100.341, Time=1.73 sec\n",
      " ARIMA(2,1,1)(0,0,0)[0] intercept   : AIC=-56098.328, Time=3.52 sec\n",
      " ARIMA(1,1,0)(0,0,0)[0]             : AIC=-56104.319, Time=0.42 sec\n",
      " ARIMA(2,1,0)(0,0,0)[0]             : AIC=-56102.321, Time=0.41 sec\n",
      " ARIMA(1,1,1)(0,0,0)[0]             : AIC=-56102.322, Time=1.23 sec\n",
      " ARIMA(0,1,1)(0,0,0)[0]             : AIC=-56102.753, Time=0.61 sec\n",
      " ARIMA(2,1,1)(0,0,0)[0]             : AIC=-56100.316, Time=2.26 sec\n",
      "\n",
      "Best model:  ARIMA(1,1,0)(0,0,0)[0]          \n",
      "Total fit time: 20.886 seconds\n",
      "1\n",
      "Performing stepwise search to minimize aic\n",
      " ARIMA(2,1,2)(0,0,0)[0] intercept   : AIC=-48292.522, Time=3.93 sec\n",
      " ARIMA(0,1,0)(0,0,0)[0] intercept   : AIC=-48288.231, Time=0.97 sec\n",
      " ARIMA(1,1,0)(0,0,0)[0] intercept   : AIC=-48296.258, Time=0.68 sec\n",
      " ARIMA(0,1,1)(0,0,0)[0] intercept   : AIC=-48296.281, Time=2.12 sec\n",
      " ARIMA(0,1,0)(0,0,0)[0]             : AIC=-48290.045, Time=0.55 sec\n",
      " ARIMA(1,1,1)(0,0,0)[0] intercept   : AIC=-48294.292, Time=2.41 sec\n",
      " ARIMA(0,1,2)(0,0,0)[0] intercept   : AIC=-48294.291, Time=1.43 sec\n",
      " ARIMA(1,1,2)(0,0,0)[0] intercept   : AIC=-48292.212, Time=2.04 sec\n",
      " ARIMA(0,1,1)(0,0,0)[0]             : AIC=-48298.083, Time=0.77 sec\n",
      " ARIMA(1,1,1)(0,0,0)[0]             : AIC=-48296.094, Time=0.98 sec\n",
      " ARIMA(0,1,2)(0,0,0)[0]             : AIC=-48296.096, Time=1.20 sec\n",
      " ARIMA(1,1,0)(0,0,0)[0]             : AIC=-48298.058, Time=0.29 sec\n",
      " ARIMA(1,1,2)(0,0,0)[0]             : AIC=-48294.012, Time=1.43 sec\n",
      "\n",
      "Best model:  ARIMA(0,1,1)(0,0,0)[0]          \n",
      "Total fit time: 18.798 seconds\n",
      "2\n",
      "Performing stepwise search to minimize aic\n",
      " ARIMA(2,1,2)(0,0,0)[0] intercept   : AIC=-60580.609, Time=6.67 sec\n",
      " ARIMA(0,1,0)(0,0,0)[0] intercept   : AIC=-60508.016, Time=0.95 sec\n",
      " ARIMA(1,1,0)(0,0,0)[0] intercept   : AIC=-60578.989, Time=1.51 sec\n",
      " ARIMA(0,1,1)(0,0,0)[0] intercept   : AIC=-60577.477, Time=2.23 sec\n",
      " ARIMA(0,1,0)(0,0,0)[0]             : AIC=-60509.926, Time=0.51 sec\n",
      " ARIMA(1,1,2)(0,0,0)[0] intercept   : AIC=-60577.729, Time=1.68 sec\n",
      " ARIMA(2,1,1)(0,0,0)[0] intercept   : AIC=-60502.005, Time=3.65 sec\n",
      " ARIMA(3,1,2)(0,0,0)[0] intercept   : AIC=-60578.878, Time=3.83 sec\n",
      " ARIMA(2,1,3)(0,0,0)[0] intercept   : AIC=-60576.963, Time=2.79 sec\n",
      " ARIMA(1,1,1)(0,0,0)[0] intercept   : AIC=-60578.116, Time=1.39 sec\n",
      " ARIMA(1,1,3)(0,0,0)[0] intercept   : AIC=-60579.786, Time=3.90 sec\n",
      " ARIMA(3,1,1)(0,0,0)[0] intercept   : AIC=-60580.576, Time=4.38 sec\n",
      " ARIMA(3,1,3)(0,0,0)[0] intercept   : AIC=-60570.528, Time=4.63 sec\n",
      " ARIMA(2,1,2)(0,0,0)[0]             : AIC=-60582.520, Time=2.04 sec\n",
      " ARIMA(1,1,2)(0,0,0)[0]             : AIC=-60579.626, Time=2.86 sec\n",
      " ARIMA(2,1,1)(0,0,0)[0]             : AIC=-60503.919, Time=1.17 sec\n",
      " ARIMA(3,1,2)(0,0,0)[0]             : AIC=-60580.767, Time=1.77 sec\n",
      " ARIMA(2,1,3)(0,0,0)[0]             : AIC=-60578.852, Time=2.74 sec\n",
      " ARIMA(1,1,1)(0,0,0)[0]             : AIC=-60580.010, Time=0.87 sec\n",
      " ARIMA(1,1,3)(0,0,0)[0]             : AIC=-60581.702, Time=1.58 sec\n",
      " ARIMA(3,1,1)(0,0,0)[0]             : AIC=-60582.461, Time=1.32 sec\n",
      " ARIMA(3,1,3)(0,0,0)[0]             : AIC=-60572.420, Time=2.40 sec\n",
      "\n",
      "Best model:  ARIMA(2,1,2)(0,0,0)[0]          \n",
      "Total fit time: 54.920 seconds\n",
      "3\n",
      "Performing stepwise search to minimize aic\n",
      " ARIMA(2,1,2)(0,0,0)[0] intercept   : AIC=-55084.534, Time=7.16 sec\n",
      " ARIMA(0,1,0)(0,0,0)[0] intercept   : AIC=-55079.081, Time=0.92 sec\n",
      " ARIMA(1,1,0)(0,0,0)[0] intercept   : AIC=-55082.670, Time=0.85 sec\n",
      " ARIMA(0,1,1)(0,0,0)[0] intercept   : AIC=-55082.915, Time=1.94 sec\n",
      " ARIMA(0,1,0)(0,0,0)[0]             : AIC=-55080.697, Time=0.51 sec\n",
      " ARIMA(1,1,2)(0,0,0)[0] intercept   : AIC=-55086.518, Time=6.51 sec\n",
      " ARIMA(0,1,2)(0,0,0)[0] intercept   : AIC=-55084.541, Time=2.37 sec\n",
      " ARIMA(1,1,1)(0,0,0)[0] intercept   : AIC=-55075.075, Time=1.73 sec\n",
      " ARIMA(1,1,3)(0,0,0)[0] intercept   : AIC=-55091.817, Time=2.22 sec\n",
      " ARIMA(0,1,3)(0,0,0)[0] intercept   : AIC=-55094.099, Time=1.64 sec\n",
      " ARIMA(0,1,4)(0,0,0)[0] intercept   : AIC=-55092.080, Time=1.99 sec\n",
      " ARIMA(1,1,4)(0,0,0)[0] intercept   : AIC=-55090.059, Time=3.81 sec\n",
      " ARIMA(0,1,3)(0,0,0)[0]             : AIC=-55095.641, Time=1.47 sec\n",
      " ARIMA(0,1,2)(0,0,0)[0]             : AIC=-55086.115, Time=0.65 sec\n",
      " ARIMA(1,1,3)(0,0,0)[0]             : AIC=-55093.363, Time=1.57 sec\n",
      " ARIMA(0,1,4)(0,0,0)[0]             : AIC=-55093.623, Time=1.69 sec\n",
      " ARIMA(1,1,2)(0,0,0)[0]             : AIC=-55088.075, Time=0.80 sec\n",
      " ARIMA(1,1,4)(0,0,0)[0]             : AIC=-55091.605, Time=1.94 sec\n",
      "\n",
      "Best model:  ARIMA(0,1,3)(0,0,0)[0]          \n",
      "Total fit time: 39.789 seconds\n",
      "4\n",
      "Performing stepwise search to minimize aic\n",
      " ARIMA(2,1,2)(0,0,0)[0] intercept   : AIC=-78791.260, Time=2.73 sec\n",
      " ARIMA(0,1,0)(0,0,0)[0] intercept   : AIC=-77300.445, Time=1.45 sec\n",
      " ARIMA(1,1,0)(0,0,0)[0] intercept   : AIC=-78504.122, Time=1.20 sec\n",
      " ARIMA(0,1,1)(0,0,0)[0] intercept   : AIC=-78796.803, Time=4.15 sec\n",
      " ARIMA(0,1,0)(0,0,0)[0]             : AIC=-77302.174, Time=0.53 sec\n",
      " ARIMA(1,1,1)(0,0,0)[0] intercept   : AIC=-78794.831, Time=5.15 sec\n",
      " ARIMA(0,1,2)(0,0,0)[0] intercept   : AIC=-78794.936, Time=4.97 sec\n",
      " ARIMA(1,1,2)(0,0,0)[0] intercept   : AIC=-78793.264, Time=2.04 sec\n",
      " ARIMA(0,1,1)(0,0,0)[0]             : AIC=-78798.028, Time=1.20 sec\n",
      " ARIMA(1,1,1)(0,0,0)[0]             : AIC=-78796.049, Time=1.55 sec\n",
      " ARIMA(0,1,2)(0,0,0)[0]             : AIC=-78796.196, Time=2.62 sec\n",
      " ARIMA(1,1,0)(0,0,0)[0]             : AIC=-78505.514, Time=0.50 sec\n",
      " ARIMA(1,1,2)(0,0,0)[0]             : AIC=-78794.197, Time=1.96 sec\n",
      "\n",
      "Best model:  ARIMA(0,1,1)(0,0,0)[0]          \n",
      "Total fit time: 30.084 seconds\n",
      "5\n",
      "Performing stepwise search to minimize aic\n",
      " ARIMA(2,1,2)(0,0,0)[0] intercept   : AIC=-124885.257, Time=10.39 sec\n",
      " ARIMA(0,1,0)(0,0,0)[0] intercept   : AIC=-124870.815, Time=1.60 sec\n",
      " ARIMA(1,1,0)(0,0,0)[0] intercept   : AIC=-124886.268, Time=2.02 sec\n",
      " ARIMA(0,1,1)(0,0,0)[0] intercept   : AIC=-124886.502, Time=2.16 sec\n",
      " ARIMA(0,1,0)(0,0,0)[0]             : AIC=-124867.043, Time=0.59 sec\n",
      " ARIMA(1,1,1)(0,0,0)[0] intercept   : AIC=-124885.252, Time=4.91 sec\n",
      " ARIMA(0,1,2)(0,0,0)[0] intercept   : AIC=-124884.830, Time=7.12 sec\n",
      " ARIMA(1,1,2)(0,0,0)[0] intercept   : AIC=-124883.329, Time=8.32 sec\n",
      " ARIMA(0,1,1)(0,0,0)[0]             : AIC=-124887.969, Time=1.22 sec\n",
      " ARIMA(1,1,1)(0,0,0)[0]             : AIC=-124880.671, Time=1.13 sec\n",
      " ARIMA(0,1,2)(0,0,0)[0]             : AIC=-124880.285, Time=1.17 sec\n",
      " ARIMA(1,1,0)(0,0,0)[0]             : AIC=-124881.757, Time=0.80 sec\n",
      " ARIMA(1,1,2)(0,0,0)[0]             : AIC=-124878.739, Time=1.49 sec\n",
      "\n",
      "Best model:  ARIMA(0,1,1)(0,0,0)[0]          \n",
      "Total fit time: 42.945 seconds\n",
      "6\n",
      "Performing stepwise search to minimize aic\n",
      " ARIMA(2,1,2)(0,0,0)[0] intercept   : AIC=-59296.166, Time=4.86 sec\n",
      " ARIMA(0,1,0)(0,0,0)[0] intercept   : AIC=-59282.430, Time=1.64 sec\n",
      " ARIMA(1,1,0)(0,0,0)[0] intercept   : AIC=-59298.095, Time=1.46 sec\n",
      " ARIMA(0,1,1)(0,0,0)[0] intercept   : AIC=-59298.115, Time=4.33 sec\n",
      " ARIMA(0,1,0)(0,0,0)[0]             : AIC=-59284.374, Time=0.45 sec\n",
      " ARIMA(1,1,1)(0,0,0)[0] intercept   : AIC=-59296.102, Time=3.12 sec\n",
      " ARIMA(0,1,2)(0,0,0)[0] intercept   : AIC=-59296.105, Time=2.19 sec\n",
      " ARIMA(1,1,2)(0,0,0)[0] intercept   : AIC=-59294.069, Time=1.63 sec\n",
      " ARIMA(0,1,1)(0,0,0)[0]             : AIC=-59300.054, Time=1.68 sec\n",
      " ARIMA(1,1,1)(0,0,0)[0]             : AIC=-59298.041, Time=0.90 sec\n",
      " ARIMA(0,1,2)(0,0,0)[0]             : AIC=-59298.044, Time=0.66 sec\n",
      " ARIMA(1,1,0)(0,0,0)[0]             : AIC=-59300.035, Time=0.53 sec\n",
      " ARIMA(1,1,2)(0,0,0)[0]             : AIC=-59296.007, Time=1.05 sec\n",
      "\n",
      "Best model:  ARIMA(0,1,1)(0,0,0)[0]          \n",
      "Total fit time: 24.503 seconds\n",
      "7\n",
      "Performing stepwise search to minimize aic\n",
      " ARIMA(2,1,2)(0,0,0)[0] intercept   : AIC=-68668.314, Time=4.68 sec\n",
      " ARIMA(0,1,0)(0,0,0)[0] intercept   : AIC=-68433.430, Time=0.94 sec\n",
      " ARIMA(1,1,0)(0,0,0)[0] intercept   : AIC=-68667.176, Time=1.29 sec\n",
      " ARIMA(0,1,1)(0,0,0)[0] intercept   : AIC=-68672.820, Time=2.54 sec\n",
      " ARIMA(0,1,0)(0,0,0)[0]             : AIC=-68434.920, Time=0.44 sec\n",
      " ARIMA(1,1,1)(0,0,0)[0] intercept   : AIC=-68670.802, Time=3.53 sec\n",
      " ARIMA(0,1,2)(0,0,0)[0] intercept   : AIC=-68670.799, Time=3.65 sec\n",
      " ARIMA(1,1,2)(0,0,0)[0] intercept   : AIC=-68669.116, Time=3.96 sec\n",
      " ARIMA(0,1,1)(0,0,0)[0]             : AIC=-68674.048, Time=0.56 sec\n",
      " ARIMA(1,1,1)(0,0,0)[0]             : AIC=-68672.033, Time=0.64 sec\n",
      " ARIMA(0,1,2)(0,0,0)[0]             : AIC=-68672.026, Time=0.89 sec\n",
      " ARIMA(1,1,0)(0,0,0)[0]             : AIC=-68668.449, Time=0.49 sec\n",
      " ARIMA(1,1,2)(0,0,0)[0]             : AIC=-68670.354, Time=1.73 sec\n",
      "\n",
      "Best model:  ARIMA(0,1,1)(0,0,0)[0]          \n",
      "Total fit time: 25.352 seconds\n",
      "[(1, 1, 0), (0, 1, 1), (2, 1, 2), (0, 1, 3), (0, 1, 1), (0, 1, 1), (0, 1, 1), (0, 1, 1)]\n"
     ]
    }
   ],
   "source": [
    "# using auto arima to try to come up with possible good values for p and q parameters\n",
    "\n",
    "from pmdarima import auto_arima\n",
    "\n",
    "pq = []\n",
    "for column in df:\n",
    "    print(column)\n",
    "    model = auto_arima(df[column], test='adf', stepwise=True, trace=True)\n",
    "    parameters = model.get_params().get('order')\n",
    "    pq.append(parameters)\n",
    "\n",
    "print(pq)"
   ],
   "metadata": {
    "collapsed": false
   }
  },
  {
   "cell_type": "code",
   "execution_count": 64,
   "outputs": [
    {
     "name": "stdout",
     "output_type": "stream",
     "text": [
      "[(1, 0), (0, 3), (2, 2), (0, 1)]\n"
     ]
    }
   ],
   "source": [
    "only_pq = []\n",
    "for values in pq:\n",
    "    pq_tuple = (values[0], values[2])\n",
    "    only_pq.append(pq_tuple)\n",
    "only_pq = [t for t in (set(tuple(i) for i in only_pq))]\n",
    "print(only_pq)"
   ],
   "metadata": {
    "collapsed": false
   }
  },
  {
   "cell_type": "code",
   "execution_count": 48,
   "outputs": [
    {
     "name": "stdout",
     "output_type": "stream",
     "text": [
      "(6828, 8)\n",
      "(759, 8)\n"
     ]
    }
   ],
   "source": [
    "# train = df_diff.sample(frac = 0.90)\n",
    "# test = df_diff.drop(train.index)\n",
    "# print(train.shape)\n",
    "# print(test.shape)"
   ],
   "metadata": {
    "collapsed": false
   }
  },
  {
   "cell_type": "code",
   "execution_count": 65,
   "outputs": [],
   "source": [
    "train = df[0:-15]\n",
    "test = df[-15:]\n",
    "train_diff = df_diff[0:-15]\n",
    "test_diff = df_diff[-15:]"
   ],
   "metadata": {
    "collapsed": false
   }
  },
  {
   "cell_type": "code",
   "execution_count": 66,
   "outputs": [],
   "source": [
    "# https://colab.research.google.com/github/Apress/hands-on-time-series-analylsis-python/blob/master/Chapter%204/7.%20VARMA%20with%20Auto%20Arima.ipynb#scrollTo=ax7ukNmu-TsX\n",
    "# https://analyticsindiamag.com/complete-guide-to-dickey-fuller-test-in-time-series-analysis/\n",
    "\n",
    "\n",
    "def inverse_diff(actual_df, pred_df):\n",
    "    df_res = pred_df.copy()\n",
    "    columns = actual_df.columns\n",
    "    for col in columns:\n",
    "        df_res[str(col)+'_1st_inv_diff'] = actual_df[col].iloc[-1] + df_res[col].cumsum()\n",
    "    return df_res"
   ],
   "metadata": {
    "collapsed": false
   }
  },
  {
   "cell_type": "code",
   "execution_count": 67,
   "outputs": [
    {
     "name": "stderr",
     "output_type": "stream",
     "text": [
      "C:\\Users\\mehta\\anaconda3\\envs\\aidi\\lib\\site-packages\\statsmodels\\tsa\\base\\tsa_model.py:471: ValueWarning: An unsupported index was provided and will be ignored when e.g. forecasting.\n",
      "  self._init_dates(dates, freq)\n",
      "C:\\Users\\mehta\\anaconda3\\envs\\aidi\\lib\\site-packages\\statsmodels\\tsa\\base\\tsa_model.py:834: ValueWarning: No supported index is available. Prediction results will be given with an integer index beginning at `start`.\n",
      "  return get_prediction_index(\n",
      "C:\\Users\\mehta\\AppData\\Local\\Temp\\ipykernel_13288\\615246142.py:17: FutureWarning: The frame.append method is deprecated and will be removed from pandas in a future version. Use pandas.concat instead.\n",
      "  df_results_grid_search = df_results_grid_search.append(row, ignore_index=True)\n",
      "C:\\Users\\mehta\\anaconda3\\envs\\aidi\\lib\\site-packages\\statsmodels\\tsa\\base\\tsa_model.py:471: ValueWarning: An unsupported index was provided and will be ignored when e.g. forecasting.\n",
      "  self._init_dates(dates, freq)\n",
      "C:\\Users\\mehta\\anaconda3\\envs\\aidi\\lib\\site-packages\\statsmodels\\base\\model.py:604: ConvergenceWarning: Maximum Likelihood optimization failed to converge. Check mle_retvals\n",
      "  warnings.warn(\"Maximum Likelihood optimization failed to \"\n",
      "C:\\Users\\mehta\\anaconda3\\envs\\aidi\\lib\\site-packages\\statsmodels\\tsa\\base\\tsa_model.py:834: ValueWarning: No supported index is available. Prediction results will be given with an integer index beginning at `start`.\n",
      "  return get_prediction_index(\n",
      "C:\\Users\\mehta\\AppData\\Local\\Temp\\ipykernel_13288\\615246142.py:17: FutureWarning: The frame.append method is deprecated and will be removed from pandas in a future version. Use pandas.concat instead.\n",
      "  df_results_grid_search = df_results_grid_search.append(row, ignore_index=True)\n",
      "C:\\Users\\mehta\\anaconda3\\envs\\aidi\\lib\\site-packages\\statsmodels\\tsa\\statespace\\varmax.py:161: EstimationWarning: Estimation of VARMA(p,q) models is not generically robust, due especially to identification issues.\n",
      "  warn('Estimation of VARMA(p,q) models is not generically robust,'\n",
      "C:\\Users\\mehta\\anaconda3\\envs\\aidi\\lib\\site-packages\\statsmodels\\tsa\\base\\tsa_model.py:471: ValueWarning: An unsupported index was provided and will be ignored when e.g. forecasting.\n",
      "  self._init_dates(dates, freq)\n",
      "C:\\Users\\mehta\\anaconda3\\envs\\aidi\\lib\\site-packages\\statsmodels\\tsa\\base\\tsa_model.py:834: ValueWarning: No supported index is available. Prediction results will be given with an integer index beginning at `start`.\n",
      "  return get_prediction_index(\n",
      "C:\\Users\\mehta\\AppData\\Local\\Temp\\ipykernel_13288\\615246142.py:17: FutureWarning: The frame.append method is deprecated and will be removed from pandas in a future version. Use pandas.concat instead.\n",
      "  df_results_grid_search = df_results_grid_search.append(row, ignore_index=True)\n",
      "C:\\Users\\mehta\\anaconda3\\envs\\aidi\\lib\\site-packages\\statsmodels\\tsa\\base\\tsa_model.py:471: ValueWarning: An unsupported index was provided and will be ignored when e.g. forecasting.\n",
      "  self._init_dates(dates, freq)\n",
      "C:\\Users\\mehta\\anaconda3\\envs\\aidi\\lib\\site-packages\\statsmodels\\base\\model.py:604: ConvergenceWarning: Maximum Likelihood optimization failed to converge. Check mle_retvals\n",
      "  warnings.warn(\"Maximum Likelihood optimization failed to \"\n",
      "C:\\Users\\mehta\\anaconda3\\envs\\aidi\\lib\\site-packages\\statsmodels\\tsa\\base\\tsa_model.py:834: ValueWarning: No supported index is available. Prediction results will be given with an integer index beginning at `start`.\n",
      "  return get_prediction_index(\n",
      "C:\\Users\\mehta\\AppData\\Local\\Temp\\ipykernel_13288\\615246142.py:17: FutureWarning: The frame.append method is deprecated and will be removed from pandas in a future version. Use pandas.concat instead.\n",
      "  df_results_grid_search = df_results_grid_search.append(row, ignore_index=True)\n"
     ]
    },
    {
     "data": {
      "text/plain": "     p    q    rmse 0    rmse 1    rmse 2    rmse 3    rmse 4    rmse 5  \\\n2  2.0  2.0  0.003400  0.007304  0.004110  0.006103  0.000159  0.000042   \n3  0.0  1.0  0.003437  0.007135  0.004139  0.006346  0.000128  0.000043   \n1  0.0  3.0  0.003440  0.007545  0.004208  0.006485  0.000208  0.000044   \n0  1.0  0.0  0.003445  0.007274  0.004190  0.006350  0.000127  0.000043   \n\n     rmse 6    rmse 7  \n2  0.003393  0.001048  \n3  0.003212  0.001037  \n1  0.003530  0.001061  \n0  0.003273  0.001038  ",
      "text/html": "<div>\n<style scoped>\n    .dataframe tbody tr th:only-of-type {\n        vertical-align: middle;\n    }\n\n    .dataframe tbody tr th {\n        vertical-align: top;\n    }\n\n    .dataframe thead th {\n        text-align: right;\n    }\n</style>\n<table border=\"1\" class=\"dataframe\">\n  <thead>\n    <tr style=\"text-align: right;\">\n      <th></th>\n      <th>p</th>\n      <th>q</th>\n      <th>rmse 0</th>\n      <th>rmse 1</th>\n      <th>rmse 2</th>\n      <th>rmse 3</th>\n      <th>rmse 4</th>\n      <th>rmse 5</th>\n      <th>rmse 6</th>\n      <th>rmse 7</th>\n    </tr>\n  </thead>\n  <tbody>\n    <tr>\n      <th>2</th>\n      <td>2.0</td>\n      <td>2.0</td>\n      <td>0.003400</td>\n      <td>0.007304</td>\n      <td>0.004110</td>\n      <td>0.006103</td>\n      <td>0.000159</td>\n      <td>0.000042</td>\n      <td>0.003393</td>\n      <td>0.001048</td>\n    </tr>\n    <tr>\n      <th>3</th>\n      <td>0.0</td>\n      <td>1.0</td>\n      <td>0.003437</td>\n      <td>0.007135</td>\n      <td>0.004139</td>\n      <td>0.006346</td>\n      <td>0.000128</td>\n      <td>0.000043</td>\n      <td>0.003212</td>\n      <td>0.001037</td>\n    </tr>\n    <tr>\n      <th>1</th>\n      <td>0.0</td>\n      <td>3.0</td>\n      <td>0.003440</td>\n      <td>0.007545</td>\n      <td>0.004208</td>\n      <td>0.006485</td>\n      <td>0.000208</td>\n      <td>0.000044</td>\n      <td>0.003530</td>\n      <td>0.001061</td>\n    </tr>\n    <tr>\n      <th>0</th>\n      <td>1.0</td>\n      <td>0.0</td>\n      <td>0.003445</td>\n      <td>0.007274</td>\n      <td>0.004190</td>\n      <td>0.006350</td>\n      <td>0.000127</td>\n      <td>0.000043</td>\n      <td>0.003273</td>\n      <td>0.001038</td>\n    </tr>\n  </tbody>\n</table>\n</div>"
     },
     "execution_count": 67,
     "metadata": {},
     "output_type": "execute_result"
    }
   ],
   "source": [
    "# fining best value of p and q parameters now for VARMA\n",
    "\n",
    "from sklearn import metrics\n",
    "from statsmodels.tsa.statespace.varmax import VARMAX\n",
    "\n",
    "grid_search_results_columns = ['p', 'q']\n",
    "for column in df:\n",
    "    grid_search_results_columns.append('rmse ' + str(column))\n",
    "df_results_grid_search = pd.DataFrame(columns=grid_search_results_columns)\n",
    "\n",
    "for i in only_pq:\n",
    "    model = VARMAX(train_diff, order=(i[0],i[1])).fit()\n",
    "    predicted = model.forecast(steps=15)\n",
    "    inv_diff_predicted = inverse_diff(df, predicted)\n",
    "    row = {'p': i[0], 'q': i[1]}\n",
    "    for column in df:\n",
    "        rmse = np.sqrt(metrics.mean_squared_error(test[column], inv_diff_predicted[str(column) + '_1st_inv_diff']))\n",
    "        row['rmse ' + str(column)] = rmse\n",
    "    df_results_grid_search = df_results_grid_search.append(row, ignore_index=True)\n",
    "\n",
    "df_results_grid_search.sort_values(by=grid_search_results_columns[2:])"
   ],
   "metadata": {
    "collapsed": false
   }
  },
  {
   "cell_type": "code",
   "execution_count": 76,
   "outputs": [
    {
     "data": {
      "text/plain": "(7587, 8)"
     },
     "execution_count": 76,
     "metadata": {},
     "output_type": "execute_result"
    }
   ],
   "source": [
    "df_diff.shape"
   ],
   "metadata": {
    "collapsed": false
   }
  },
  {
   "cell_type": "code",
   "execution_count": 111,
   "outputs": [
    {
     "name": "stdout",
     "output_type": "stream",
     "text": [
      "759\n"
     ]
    }
   ],
   "source": [
    "test_size = df_diff.shape[0] - round(df_diff.shape[0] * 90 / 100)\n",
    "print(test_size)"
   ],
   "metadata": {
    "collapsed": false
   }
  },
  {
   "cell_type": "code",
   "execution_count": 81,
   "outputs": [],
   "source": [
    "train_diff = df_diff[0:-test_size]"
   ],
   "metadata": {
    "collapsed": false
   }
  },
  {
   "cell_type": "code",
   "execution_count": 82,
   "outputs": [
    {
     "name": "stderr",
     "output_type": "stream",
     "text": [
      "C:\\Users\\mehta\\anaconda3\\envs\\aidi\\lib\\site-packages\\statsmodels\\tsa\\statespace\\varmax.py:161: EstimationWarning: Estimation of VARMA(p,q) models is not generically robust, due especially to identification issues.\n",
      "  warn('Estimation of VARMA(p,q) models is not generically robust,'\n",
      "C:\\Users\\mehta\\anaconda3\\envs\\aidi\\lib\\site-packages\\statsmodels\\tsa\\base\\tsa_model.py:471: ValueWarning: An unsupported index was provided and will be ignored when e.g. forecasting.\n",
      "  self._init_dates(dates, freq)\n",
      "C:\\Users\\mehta\\anaconda3\\envs\\aidi\\lib\\site-packages\\statsmodels\\tsa\\base\\tsa_model.py:834: ValueWarning: No supported index is available. Prediction results will be given with an integer index beginning at `start`.\n",
      "  return get_prediction_index(\n"
     ]
    }
   ],
   "source": [
    "# training my VARMA model on 90% of the dataset\n",
    "\n",
    "model = VARMAX(train_diff, order=(2,2)).fit(disp=False)"
   ],
   "metadata": {
    "collapsed": false
   }
  },
  {
   "cell_type": "code",
   "execution_count": 108,
   "outputs": [
    {
     "name": "stderr",
     "output_type": "stream",
     "text": [
      "C:\\Users\\mehta\\anaconda3\\envs\\aidi\\lib\\site-packages\\statsmodels\\tsa\\base\\tsa_model.py:834: ValueWarning: No supported index is available. Prediction results will be given with an integer index beginning at `start`.\n",
      "  return get_prediction_index(\n"
     ]
    }
   ],
   "source": [
    "result = model.forecast(steps=test_size)"
   ],
   "metadata": {
    "collapsed": false
   }
  },
  {
   "cell_type": "code",
   "execution_count": 109,
   "outputs": [
    {
     "name": "stdout",
     "output_type": "stream",
     "text": [
      "                0            1            2            3            4  \\\n",
      "6828 -1457.767881  -698.551140 -2094.523485 -2055.776299  5608.274447   \n",
      "6829 -1029.454084 -1814.151509  -952.694336 -1456.052171 -3494.323611   \n",
      "6830   -47.777742    44.813254   341.339858   -39.508018  3872.271813   \n",
      "6831   -30.904484    49.595965  -195.232001   -66.619514  1322.461398   \n",
      "6832   -55.163219     6.928549    55.870638    60.611975  1151.644264   \n",
      "...           ...          ...          ...          ...          ...   \n",
      "7582    -6.127403    -1.692079    -7.372311    -5.339305   -61.922452   \n",
      "7583    -6.127403    -1.692079    -7.372311    -5.339305   -61.922452   \n",
      "7584    -6.127403    -1.692079    -7.372311    -5.339305   -61.922452   \n",
      "7585    -6.127403    -1.692079    -7.372311    -5.339305   -61.922452   \n",
      "7586    -6.127403    -1.692079    -7.372311    -5.339305   -61.922452   \n",
      "\n",
      "                 5            6            7  0_1st_inv_diff  1_1st_inv_diff  \\\n",
      "6828 -3.467611e+05  -493.769261  8291.494035    -1457.047056     -697.317235   \n",
      "6829 -8.915879e+05 -1609.281000  -762.820561    -2486.501140    -2511.468745   \n",
      "6830  1.627446e+06  -870.224815  2822.785900    -2534.278882    -2466.655490   \n",
      "6831  4.342548e+05  -751.984224   439.788411    -2565.183366    -2417.059526   \n",
      "6832  4.799108e+05    52.553634  1172.424788    -2620.346584    -2410.130976   \n",
      "...            ...          ...          ...             ...             ...   \n",
      "7582 -3.221486e+04   -11.163234   -27.144639    -7220.325521    -3676.646760   \n",
      "7583 -3.221486e+04   -11.163234   -27.144639    -7226.452924    -3678.338839   \n",
      "7584 -3.221486e+04   -11.163234   -27.144639    -7232.580327    -3680.030919   \n",
      "7585 -3.221486e+04   -11.163234   -27.144639    -7238.707731    -3681.722998   \n",
      "7586 -3.221486e+04   -11.163234   -27.144639    -7244.835134    -3683.415077   \n",
      "\n",
      "      2_1st_inv_diff  3_1st_inv_diff  4_1st_inv_diff  5_1st_inv_diff  \\\n",
      "6828    -2093.779354    -2054.795955     5608.418440   -3.467611e+05   \n",
      "6829    -3046.473690    -3510.848126     2114.094830   -1.238349e+06   \n",
      "6830    -2705.133832    -3550.356144     5986.366643    3.890970e+05   \n",
      "6831    -2900.365834    -3616.975658     7308.828041    8.233518e+05   \n",
      "6832    -2844.495195    -3556.363683     8460.472305    1.303263e+06   \n",
      "...              ...             ...             ...             ...   \n",
      "7582    -8360.466421    -7574.879075   -36925.385329   -2.251237e+07   \n",
      "7583    -8367.838732    -7580.218380   -36987.307781   -2.254459e+07   \n",
      "7584    -8375.211043    -7585.557686   -37049.230232   -2.257680e+07   \n",
      "7585    -8382.583355    -7590.896991   -37111.152684   -2.260902e+07   \n",
      "7586    -8389.955666    -7596.236296   -37173.075136   -2.264123e+07   \n",
      "\n",
      "      6_1st_inv_diff  7_1st_inv_diff  \n",
      "6828     -493.076572     8292.184977  \n",
      "6829    -2102.357571     7529.364415  \n",
      "6830    -2972.582386    10352.150315  \n",
      "6831    -3724.566610    10791.938726  \n",
      "6832    -3672.012976    11964.363514  \n",
      "...              ...             ...  \n",
      "7582   -12122.434192    -7489.286103  \n",
      "7583   -12133.597426    -7516.430742  \n",
      "7584   -12144.760660    -7543.575381  \n",
      "7585   -12155.923894    -7570.720020  \n",
      "7586   -12167.087129    -7597.864659  \n",
      "\n",
      "[759 rows x 16 columns]\n"
     ]
    }
   ],
   "source": [
    "inv_diff_result = inverse_diff(df, result)\n",
    "print(inv_diff_result)"
   ],
   "metadata": {
    "collapsed": false
   }
  },
  {
   "cell_type": "code",
   "execution_count": 113,
   "outputs": [
    {
     "name": "stdout",
     "output_type": "stream",
     "text": [
      "RMSE for 0: 5102.273\n",
      "NRMSE (maxmin) for 0: 30810.084\n",
      "NRMSE (mean) for 0: 6795.561\n",
      "RMSE for 1: 3065.118\n",
      "NRMSE (maxmin) for 1: 8134.041\n",
      "NRMSE (mean) for 1: 2119.498\n",
      "RMSE for 2: 5824.894\n",
      "NRMSE (maxmin) for 2: 29850.124\n",
      "NRMSE (mean) for 2: 7537.557\n",
      "RMSE for 3: 5694.143\n",
      "NRMSE (maxmin) for 3: 27394.786\n",
      "NRMSE (mean) for 3: 5540.286\n",
      "RMSE for 4: 19274.351\n",
      "NRMSE (maxmin) for 4: 1018136.983\n",
      "NRMSE (mean) for 4: 124262.808\n",
      "RMSE for 5: 12594753.165\n",
      "NRMSE (maxmin) for 5: 6131817509.901\n",
      "NRMSE (mean) for 5: 1443150325.263\n",
      "RMSE for 6: 8302.924\n",
      "NRMSE (maxmin) for 6: 50632.215\n",
      "NRMSE (mean) for 6: 11835.776\n",
      "RMSE for 7: 6488.931\n",
      "NRMSE (maxmin) for 7: 83360.284\n",
      "NRMSE (mean) for 7: 8921.813\n"
     ]
    }
   ],
   "source": [
    "# https://www.marinedatascience.co/blog/2019/01/07/normalizing-the-rmse/\n",
    "\n",
    "test = df[-test_size:]\n",
    "\n",
    "for column in df:\n",
    "    rmse = np.sqrt(metrics.mean_squared_error(test[column], inv_diff_result[str(column) + '_1st_inv_diff']))\n",
    "    print('RMSE for {}: {:.3f}'.format(column, rmse))\n",
    "    nrmse = rmse / (test[column].max() - test[column].min())\n",
    "    print('NRMSE (maxmin) for {}: {:.3f}'.format(column, nrmse))\n",
    "    nrmse_mean = rmse / (test[column].mean())\n",
    "    print('NRMSE (mean) for {}: {:.3f}'.format(column, nrmse_mean))"
   ],
   "metadata": {
    "collapsed": false
   }
  },
  {
   "cell_type": "code",
   "execution_count": 107,
   "outputs": [],
   "source": [
    "import pickle as pkl\n",
    "\n",
    "filename = 'var_model.pickle'\n",
    "pkl.dump(model, open(filename, 'wb'))"
   ],
   "metadata": {
    "collapsed": false
   }
  }
 ],
 "metadata": {
  "kernelspec": {
   "display_name": "Python 3",
   "language": "python",
   "name": "python3"
  },
  "language_info": {
   "codemirror_mode": {
    "name": "ipython",
    "version": 2
   },
   "file_extension": ".py",
   "mimetype": "text/x-python",
   "name": "python",
   "nbconvert_exporter": "python",
   "pygments_lexer": "ipython2",
   "version": "2.7.6"
  }
 },
 "nbformat": 4,
 "nbformat_minor": 0
}
