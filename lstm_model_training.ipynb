{
 "cells": [
  {
   "cell_type": "code",
   "execution_count": 1,
   "metadata": {
    "collapsed": true
   },
   "outputs": [],
   "source": [
    "import pandas as pd\n",
    "import numpy as np"
   ]
  },
  {
   "cell_type": "code",
   "execution_count": 29,
   "outputs": [
    {
     "data": {
      "text/plain": "(7588, 8)"
     },
     "execution_count": 29,
     "metadata": {},
     "output_type": "execute_result"
    }
   ],
   "source": [
    "exchange_rate = pd.read_csv(\"datasets/exchange_rate.txt\", sep = ',', header = None)\n",
    "exchange_rate.shape"
   ],
   "metadata": {
    "collapsed": false
   }
  },
  {
   "cell_type": "code",
   "execution_count": 44,
   "outputs": [],
   "source": [
    "df = exchange_rate"
   ],
   "metadata": {
    "collapsed": false
   }
  },
  {
   "cell_type": "code",
   "execution_count": 45,
   "outputs": [],
   "source": [
    "test_size = df.shape[0] - round(df.shape[0] * 90 / 100)"
   ],
   "metadata": {
    "collapsed": false
   }
  },
  {
   "cell_type": "code",
   "execution_count": 46,
   "outputs": [
    {
     "data": {
      "text/plain": "(6829, 8)"
     },
     "execution_count": 46,
     "metadata": {},
     "output_type": "execute_result"
    }
   ],
   "source": [
    "train = df[0:-test_size]\n",
    "train.shape"
   ],
   "metadata": {
    "collapsed": false
   }
  },
  {
   "cell_type": "code",
   "execution_count": 47,
   "outputs": [
    {
     "data": {
      "text/plain": "(759, 8)"
     },
     "execution_count": 47,
     "metadata": {},
     "output_type": "execute_result"
    }
   ],
   "source": [
    "test = df[-test_size:]\n",
    "test.shape"
   ],
   "metadata": {
    "collapsed": false
   }
  },
  {
   "cell_type": "code",
   "execution_count": 48,
   "outputs": [],
   "source": [
    "# https://www.analyticsvidhya.com/blog/2020/10/multivariate-multi-step-time-series-forecasting-using-stacked-lstm-sequence-to-sequence-autoencoder-in-tensorflow-2-0-keras/\n",
    "# https://analyticsindiamag.com/how-to-do-multivariate-time-series-forecasting-using-lstm/\n",
    "\n",
    "def split_series(series, n_past, n_future):\n",
    "\n",
    "    X, y = list(), list()\n",
    "    for window_start in range(len(series)):\n",
    "        past_end = window_start + n_past\n",
    "        future_end = past_end + n_future\n",
    "        if future_end > len(series):\n",
    "            break\n",
    "        past, future = series[window_start:past_end, :], series[past_end:future_end, :]\n",
    "        X.append(past)\n",
    "        y.append(future)\n",
    "    return np.array(X), np.array(y)"
   ],
   "metadata": {
    "collapsed": false
   }
  },
  {
   "cell_type": "code",
   "execution_count": 49,
   "outputs": [],
   "source": [
    "n_past = 10\n",
    "n_future = 1\n",
    "n_features = df.shape[1]"
   ],
   "metadata": {
    "collapsed": false
   }
  },
  {
   "cell_type": "code",
   "execution_count": 50,
   "outputs": [],
   "source": [
    "X_train, y_train = split_series(train.values,n_past, n_future)\n",
    "X_train = X_train.reshape((X_train.shape[0], X_train.shape[1],n_features))\n",
    "y_train = y_train.reshape((y_train.shape[0], y_train.shape[1], n_features))\n",
    "X_test, y_test = split_series(test.values,n_past, n_future)\n",
    "X_test = X_test.reshape((X_test.shape[0], X_test.shape[1],n_features))\n",
    "y_test = y_test.reshape((y_test.shape[0], y_test.shape[1], n_features))"
   ],
   "metadata": {
    "collapsed": false
   }
  },
  {
   "cell_type": "code",
   "execution_count": 51,
   "outputs": [
    {
     "name": "stdout",
     "output_type": "stream",
     "text": [
      "Model: \"model_1\"\n",
      "__________________________________________________________________________________________________\n",
      " Layer (type)                   Output Shape         Param #     Connected to                     \n",
      "==================================================================================================\n",
      " input_2 (InputLayer)           [(None, 10, 8)]      0           []                               \n",
      "                                                                                                  \n",
      " lstm_3 (LSTM)                  [(None, 100),        43600       ['input_2[0][0]']                \n",
      "                                 (None, 100),                                                     \n",
      "                                 (None, 100)]                                                     \n",
      "                                                                                                  \n",
      " repeat_vector_1 (RepeatVector)  (None, 1, 100)      0           ['lstm_3[0][0]']                 \n",
      "                                                                                                  \n",
      " lstm_4 (LSTM)                  (None, 1, 100)       80400       ['repeat_vector_1[0][0]',        \n",
      "                                                                  'lstm_3[0][1]',                 \n",
      "                                                                  'lstm_3[0][2]']                 \n",
      "                                                                                                  \n",
      " time_distributed_1 (TimeDistri  (None, 1, 8)        808         ['lstm_4[0][0]']                 \n",
      " buted)                                                                                           \n",
      "                                                                                                  \n",
      "==================================================================================================\n",
      "Total params: 124,808\n",
      "Trainable params: 124,808\n",
      "Non-trainable params: 0\n",
      "__________________________________________________________________________________________________\n"
     ]
    }
   ],
   "source": [
    "# https://www.kaggle.com/code/sasakitetsuya/multivariate-time-series-forecasting-with-lstms\n",
    "\n",
    "from tensorflow import keras\n",
    "\n",
    "encoder_inputs = keras.layers.Input(shape=(n_past, n_features))\n",
    "encoder_l1 = keras.layers.LSTM(100, return_state=True)\n",
    "encoder_outputs1 = encoder_l1(encoder_inputs)\n",
    "\n",
    "encoder_states1 = encoder_outputs1[1:]\n",
    "\n",
    "decoder_inputs = keras.layers.RepeatVector(n_future)(encoder_outputs1[0])\n",
    "\n",
    "decoder_l1 = keras.layers.LSTM(100, return_sequences=True)(decoder_inputs,initial_state = encoder_states1)\n",
    "decoder_outputs1 = keras.layers.TimeDistributed(keras.layers.Dense(n_features))(decoder_l1)\n",
    "\n",
    "model = keras.models.Model(encoder_inputs,decoder_outputs1)\n",
    "\n",
    "model.summary()"
   ],
   "metadata": {
    "collapsed": false
   }
  },
  {
   "cell_type": "code",
   "execution_count": 54,
   "outputs": [],
   "source": [
    "model.compile(optimizer=keras.optimizers.Adam(), loss='mse')"
   ],
   "metadata": {
    "collapsed": false
   }
  },
  {
   "cell_type": "code",
   "execution_count": 56,
   "outputs": [
    {
     "name": "stdout",
     "output_type": "stream",
     "text": [
      "Epoch 1/20\n",
      "214/214 [==============================] - 2s 11ms/step - loss: 4.6074e-05 - val_loss: 1.0509e-04\n",
      "Epoch 2/20\n",
      "214/214 [==============================] - 2s 10ms/step - loss: 4.9536e-05 - val_loss: 4.8608e-05\n",
      "Epoch 3/20\n",
      "214/214 [==============================] - 2s 10ms/step - loss: 4.7768e-05 - val_loss: 6.8567e-05\n",
      "Epoch 4/20\n",
      "214/214 [==============================] - 2s 10ms/step - loss: 5.6377e-05 - val_loss: 1.3278e-04\n",
      "Epoch 5/20\n",
      "214/214 [==============================] - 2s 10ms/step - loss: 4.8827e-05 - val_loss: 8.2112e-05\n",
      "Epoch 6/20\n",
      "214/214 [==============================] - 2s 10ms/step - loss: 4.7479e-05 - val_loss: 5.9415e-05\n",
      "Epoch 7/20\n",
      "214/214 [==============================] - 2s 10ms/step - loss: 4.9944e-05 - val_loss: 1.4720e-04\n",
      "Epoch 8/20\n",
      "214/214 [==============================] - 2s 10ms/step - loss: 4.1617e-05 - val_loss: 6.3115e-05\n",
      "Epoch 9/20\n",
      "214/214 [==============================] - 2s 10ms/step - loss: 4.2911e-05 - val_loss: 6.2111e-05\n",
      "Epoch 10/20\n",
      "214/214 [==============================] - 2s 10ms/step - loss: 4.6610e-05 - val_loss: 5.2431e-05\n",
      "Epoch 11/20\n",
      "214/214 [==============================] - 2s 10ms/step - loss: 4.3807e-05 - val_loss: 1.7863e-04\n",
      "Epoch 12/20\n",
      "214/214 [==============================] - 2s 10ms/step - loss: 4.2089e-05 - val_loss: 4.1610e-05\n",
      "Epoch 13/20\n",
      "214/214 [==============================] - 2s 11ms/step - loss: 4.4111e-05 - val_loss: 8.1226e-05\n",
      "Epoch 14/20\n",
      "214/214 [==============================] - 2s 10ms/step - loss: 4.7679e-05 - val_loss: 4.2761e-05\n",
      "Epoch 15/20\n",
      "214/214 [==============================] - 2s 10ms/step - loss: 4.4244e-05 - val_loss: 6.7158e-05\n",
      "Epoch 16/20\n",
      "214/214 [==============================] - 2s 10ms/step - loss: 4.6424e-05 - val_loss: 3.5719e-05\n",
      "Epoch 17/20\n",
      "214/214 [==============================] - 2s 10ms/step - loss: 4.1904e-05 - val_loss: 5.3529e-05\n",
      "Epoch 18/20\n",
      "214/214 [==============================] - 2s 10ms/step - loss: 4.2128e-05 - val_loss: 8.9106e-05\n",
      "Epoch 19/20\n",
      "214/214 [==============================] - 2s 10ms/step - loss: 4.4411e-05 - val_loss: 8.4907e-05\n",
      "Epoch 20/20\n",
      "214/214 [==============================] - 2s 11ms/step - loss: 4.7309e-05 - val_loss: 6.6893e-05\n"
     ]
    },
    {
     "data": {
      "text/plain": "<keras.callbacks.History at 0x229197ac730>"
     },
     "execution_count": 56,
     "metadata": {},
     "output_type": "execute_result"
    }
   ],
   "source": [
    "model.fit(X_train, y_train, epochs=20, validation_data=(X_test, y_test), batch_size=32)"
   ],
   "metadata": {
    "collapsed": false
   }
  },
  {
   "cell_type": "code",
   "execution_count": 57,
   "outputs": [
    {
     "name": "stdout",
     "output_type": "stream",
     "text": [
      "24/24 [==============================] - 1s 4ms/step\n"
     ]
    }
   ],
   "source": [
    "predicted = model.predict(X_test)"
   ],
   "metadata": {
    "collapsed": false
   }
  },
  {
   "cell_type": "code",
   "execution_count": 59,
   "outputs": [
    {
     "name": "stdout",
     "output_type": "stream",
     "text": [
      "RMSE for 0: 0.009\n",
      "NRMSE (mean) for 0: 0.012\n",
      "RMSE for 1: 0.014\n",
      "NRMSE (mean) for 1: 0.010\n",
      "RMSE for 2: 0.005\n",
      "NRMSE (mean) for 2: 0.006\n",
      "RMSE for 3: 0.011\n",
      "NRMSE (mean) for 3: 0.011\n",
      "RMSE for 4: 0.004\n",
      "NRMSE (mean) for 4: 0.026\n",
      "RMSE for 5: 0.002\n",
      "NRMSE (mean) for 5: 0.184\n",
      "RMSE for 6: 0.009\n",
      "NRMSE (mean) for 6: 0.013\n",
      "RMSE for 7: 0.004\n",
      "NRMSE (mean) for 7: 0.006\n"
     ]
    }
   ],
   "source": [
    "from sklearn.metrics import mean_squared_error\n",
    "for index, i in enumerate(train.columns):\n",
    "    rmse = np.sqrt(mean_squared_error(y_test[:,0,index],predicted[:,0,index]))\n",
    "    print('RMSE for {}: {:.3f}'.format(i, rmse))\n",
    "    nrmse_mean = rmse / (y_test[:,0,index].mean())\n",
    "    print('NRMSE (mean) for {}: {:.3f}'.format(i, nrmse_mean))"
   ],
   "metadata": {
    "collapsed": false
   }
  },
  {
   "cell_type": "code",
   "execution_count": 62,
   "outputs": [
    {
     "name": "stderr",
     "output_type": "stream",
     "text": [
      "WARNING:absl:Found untraced functions such as lstm_cell_3_layer_call_fn, lstm_cell_3_layer_call_and_return_conditional_losses, lstm_cell_4_layer_call_fn, lstm_cell_4_layer_call_and_return_conditional_losses while saving (showing 4 of 4). These functions will not be directly callable after loading.\n"
     ]
    },
    {
     "name": "stdout",
     "output_type": "stream",
     "text": [
      "INFO:tensorflow:Assets written to: ./lstm_model\\assets\n"
     ]
    },
    {
     "name": "stderr",
     "output_type": "stream",
     "text": [
      "INFO:tensorflow:Assets written to: ./lstm_model\\assets\n"
     ]
    }
   ],
   "source": [
    "filename = './lstm_model'\n",
    "model.save(filename)"
   ],
   "metadata": {
    "collapsed": false
   }
  }
 ],
 "metadata": {
  "kernelspec": {
   "display_name": "Python 3",
   "language": "python",
   "name": "python3"
  },
  "language_info": {
   "codemirror_mode": {
    "name": "ipython",
    "version": 2
   },
   "file_extension": ".py",
   "mimetype": "text/x-python",
   "name": "python",
   "nbconvert_exporter": "python",
   "pygments_lexer": "ipython2",
   "version": "2.7.6"
  }
 },
 "nbformat": 4,
 "nbformat_minor": 0
}
